{
 "cells": [
  {
   "cell_type": "code",
   "execution_count": 1,
   "metadata": {},
   "outputs": [
    {
     "name": "stdout",
     "output_type": "stream",
     "text": [
      "Collecting pyshorteners\n",
      "  Downloading pyshorteners-1.0.1.tar.gz (10.0 kB)\n",
      "Requirement already satisfied: requests in c:\\users\\91787\\anaconda3\\lib\\site-packages (from pyshorteners) (2.25.1)\n",
      "Requirement already satisfied: idna<3,>=2.5 in c:\\users\\91787\\anaconda3\\lib\\site-packages (from requests->pyshorteners) (2.10)\n",
      "Requirement already satisfied: chardet<5,>=3.0.2 in c:\\users\\91787\\anaconda3\\lib\\site-packages (from requests->pyshorteners) (3.0.4)\n",
      "Requirement already satisfied: urllib3<1.27,>=1.21.1 in c:\\users\\91787\\anaconda3\\lib\\site-packages (from requests->pyshorteners) (1.25.11)\n",
      "Requirement already satisfied: certifi>=2017.4.17 in c:\\users\\91787\\anaconda3\\lib\\site-packages (from requests->pyshorteners) (2020.6.20)\n",
      "Building wheels for collected packages: pyshorteners\n",
      "  Building wheel for pyshorteners (setup.py): started\n",
      "  Building wheel for pyshorteners (setup.py): finished with status 'done'\n",
      "  Created wheel for pyshorteners: filename=pyshorteners-1.0.1-py3-none-any.whl size=17504 sha256=89a9f3bb53a0a531633fd365c25405d28699768f5dd6bbb474b5ec76a5f29d28\n",
      "  Stored in directory: c:\\users\\91787\\appdata\\local\\pip\\cache\\wheels\\0f\\6e\\88\\f0c854fa281b13d4997e9068dd69201e51c4b051c52c30b48d\n",
      "Successfully built pyshorteners\n",
      "Installing collected packages: pyshorteners\n",
      "Successfully installed pyshorteners-1.0.1\n",
      "Note: you may need to restart the kernel to use updated packages.\n"
     ]
    }
   ],
   "source": [
    "pip install pyshorteners"
   ]
  },
  {
   "cell_type": "code",
   "execution_count": 3,
   "metadata": {},
   "outputs": [
    {
     "name": "stdout",
     "output_type": "stream",
     "text": [
      "Type the youtube link here : https://youtu.be/Q9n9YoFmD0\n",
      "https://tinyurl.com/ygaau9of\n"
     ]
    }
   ],
   "source": [
    "import pyshorteners\n",
    "short = pyshorteners.Shortener()\n",
    "url = input('Type the youtube link here : ')\n",
    "print(short.tinyurl.short(url))"
   ]
  }
 ],
 "metadata": {
  "kernelspec": {
   "display_name": "Python 3",
   "language": "python",
   "name": "python3"
  },
  "language_info": {
   "codemirror_mode": {
    "name": "ipython",
    "version": 3
   },
   "file_extension": ".py",
   "mimetype": "text/x-python",
   "name": "python",
   "nbconvert_exporter": "python",
   "pygments_lexer": "ipython3",
   "version": "3.8.5"
  }
 },
 "nbformat": 4,
 "nbformat_minor": 4
}
